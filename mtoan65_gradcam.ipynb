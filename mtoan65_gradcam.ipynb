{
 "cells": [
  {
   "cell_type": "markdown",
   "id": "872194be",
   "metadata": {},
   "source": [
    "# Setup"
   ]
  },
  {
   "cell_type": "markdown",
   "id": "9edf75f2",
   "metadata": {},
   "source": [
    "## Dependencies"
   ]
  },
  {
   "cell_type": "code",
   "execution_count": null,
   "id": "b88fb348",
   "metadata": {},
   "outputs": [
    {
     "name": "stderr",
     "output_type": "stream",
     "text": [
      "/home/mtoan65/AI/BioMedAI/Mammo_2025_Proj/mammoSGM/.venv/lib/python3.11/site-packages/tqdm/auto.py:21: TqdmWarning: IProgress not found. Please update jupyter and ipywidgets. See https://ipywidgets.readthedocs.io/en/stable/user_install.html\n",
      "  from .autonotebook import tqdm as notebook_tqdm\n"
     ]
    }
   ],
   "source": [
    "# Standard libraries imports\n",
    "import os\n",
    "import shutil\n",
    "import random\n",
    "from pathlib import Path\n",
    "import sys\n",
    "\n",
    "# Third-party libraries imports\n",
    "import pandas as pd\n",
    "import numpy as np\n",
    "import matplotlib.pyplot as plt\n",
    "from tqdm import tqdm\n",
    "from sklearn.model_selection import train_test_split\n",
    "from PIL import Image\n",
    "from huggingface_hub import hf_hub_download\n",
    "\n",
    "# Local imports\n",
    "from src.gradcam.gradcam_utils import pre_gradcam, gradcam, post_gradcam, gradcam_plus_plus\n",
    "from src.gradcam.model_loader import load_full_model"
   ]
  },
  {
   "cell_type": "markdown",
   "id": "9b4ecb00",
   "metadata": {},
   "source": [
    "# GradCAM"
   ]
  },
  {
   "cell_type": "code",
   "execution_count": 2,
   "id": "72e8edd6",
   "metadata": {},
   "outputs": [],
   "source": [
    "def load_data_bbx3(data_folder: str) -> tuple[pd.DataFrame, pd.DataFrame]:\n",
    "    \"\"\"\n",
    "    Load and process dataset with bounding box annotations from metadata CSV.\n",
    "\n",
    "    This function reads metadata containing bounding box annotations, processes\n",
    "    them into structured formats, and splits the data into training and test sets.\n",
    "    It automatically tries to load 'metadata2.csv' first, falling back to 'metadata.csv'\n",
    "    if not found.\n",
    "\n",
    "    Parameters\n",
    "    ----------\n",
    "    data_folder : str\n",
    "        Path to the folder containing the metadata CSV file.\n",
    "        The folder should contain either 'metadata2.csv' or 'metadata.csv'.\n",
    "\n",
    "    Returns\n",
    "    -------\n",
    "    train_df : pandas.DataFrame\n",
    "        Training dataset with the following columns:\n",
    "\n",
    "        - image_id : str or int\n",
    "            Unique identifier for each image.\n",
    "        - x, y, width, height : numeric\n",
    "            Individual bounding box coordinates and dimensions.\n",
    "        - split : str\n",
    "            Dataset split identifier (value: \"train\").\n",
    "        - bbx : list of numeric\n",
    "            Single bounding box as [x, y, width, height].\n",
    "        - bbx_list : list of list\n",
    "            All bounding boxes for the same image_id, aggregated as\n",
    "            [[x1, y1, w1, h1], [x2, y2, w2, h2], ...].\n",
    "        - Additional columns from the original CSV as available.\n",
    "\n",
    "    test_df : pandas.DataFrame\n",
    "        Test dataset with the same column structure as train_df, but filtered\n",
    "        for split == \"test\".\n",
    "\n",
    "    Notes\n",
    "    -----\n",
    "    - The function prioritizes 'metadata2.csv' over 'metadata.csv'.\n",
    "    - Each row in the original CSV represents one bounding box annotation.\n",
    "    - The 'bbx' column contains individual box coordinates as a list.\n",
    "    - The 'bbx_list' column aggregates all boxes belonging to the same image_id,\n",
    "      enabling easy access to multi-object annotations.\n",
    "    - Images with multiple objects will have multiple rows with the same image_id\n",
    "      but different bounding box coordinates.\n",
    "    - The split column must contain 'train' and 'test' values to partition the data.\n",
    "\n",
    "    Examples\n",
    "    --------\n",
    "    >>> train_df, test_df = load_data_bbx3('data/annotations/')\n",
    "    >>> print(f\"Train samples: {len(train_df)}, Test samples: {len(test_df)}\")\n",
    "    Train samples: 1250, Test samples: 350\n",
    "\n",
    "    >>> # Access bounding boxes for a specific image\n",
    "    >>> image_boxes = train_df[train_df['image_id'] == 'img_001']['bbx_list'].iloc[0]\n",
    "    >>> print(f\"Image has {len(image_boxes)} objects\")\n",
    "    Image has 3 objects\n",
    "\n",
    "    >>> # Each bounding box format\n",
    "    >>> single_box = train_df.iloc[0]['bbx']\n",
    "    >>> print(f\"Bounding box: x={single_box[0]}, y={single_box[1]}, \"\n",
    "    ...       f\"w={single_box[2]}, h={single_box[3]}\")\n",
    "    Bounding box: x=150, y=200, w=100, h=120\n",
    "\n",
    "    >>> # Get all boxes for visualization\n",
    "    >>> for idx, row in train_df.iterrows():\n",
    "    ...     image_id = row['image_id']\n",
    "    ...     all_boxes = row['bbx_list']  # List of all boxes for this image\n",
    "    ...     # Draw boxes using post_gradcam or other visualization tools\n",
    "    \"\"\"\n",
    "    metadata_path = os.path.join(data_folder, \"metadata2.csv\")\n",
    "    if not os.path.exists(metadata_path):\n",
    "        metadata_path = os.path.join(data_folder, \"metadata.csv\")\n",
    "\n",
    "    df = pd.read_csv(metadata_path)\n",
    "\n",
    "    # Create bbx column from x, y, width, height columns\n",
    "    df[\"bbx\"] = df[[\"x\", \"y\", \"width\", \"height\"]].apply(\n",
    "        lambda row: [row[\"x\"], row[\"y\"], row[\"width\"], row[\"height\"]], axis=1\n",
    "    )\n",
    "\n",
    "    # Group all bounding boxes by image_id into a list\n",
    "    bbx_grouped = df.groupby(\"image_id\")[\"bbx\"].apply(list).reset_index().rename(columns={\"bbx\": \"bbx_list\"})\n",
    "    df = df.merge(bbx_grouped, on=\"image_id\", how=\"left\")\n",
    "\n",
    "    # Split into train and test sets\n",
    "    train_df = df[df[\"split\"] == \"train\"]\n",
    "    test_df = df[df[\"split\"] == \"test\"]\n",
    "\n",
    "    return train_df, test_df"
   ]
  },
  {
   "cell_type": "markdown",
   "id": "8c313a7b",
   "metadata": {},
   "source": [
    "## Standard"
   ]
  },
  {
   "cell_type": "code",
   "execution_count": null,
   "id": "1070d14a",
   "metadata": {},
   "outputs": [],
   "source": [
    "# thử nghiệm với ảnh thứ 21\n",
    "dataset_folder = '/content/dataset/SGM1000bbx'\n",
    "train_df, test_df = load_data_bbx3(dataset_folder)\n",
    "test_df.iloc[21]"
   ]
  },
  {
   "cell_type": "code",
   "execution_count": null,
   "id": "9535d594",
   "metadata": {},
   "outputs": [],
   "source": [
    "# Example usage\n",
    "dataset_folder = '/content/dataset/SGM1000bbx'\n",
    "train_df, test_df = load_data_bbx3(dataset_folder)\n",
    "pretrained_model_path = '/content/weight/mammoSGM/SGM1000bbx/SGM1000bbx_448x448_based_resnet50_8188_full.pth'\n",
    "\n",
    "model_tuple = load_full_model(pretrained_model_path)\n",
    "\n",
    "image_path = os.path.join(dataset_folder, test_df.iloc[21]['link'])\n",
    "bbx_list = test_df.iloc[21]['bbx_list']\n",
    "gt = test_df.iloc[21]['cancer']\n",
    "\n",
    "model, input_tensor, img, target_layer, class_idx, pred_class, prob_class = pre_gradcam(model_tuple, image_path, target_layer=None, class_idx=None)\n",
    "gradcam_map = gradcam(model, input_tensor, target_layer, class_idx)\n",
    "#gradcam_map = gradcam_plus_plus(model, input_tensor, target_layer, class_idx)\n",
    "post_gradcam(gradcam_map, img, bbx_list=bbx_list, option=5, blend_alpha=0.5, pred=pred_class, prob=prob_class, gt_label=gt)\n"
   ]
  },
  {
   "cell_type": "code",
   "execution_count": null,
   "id": "752112c6",
   "metadata": {},
   "outputs": [],
   "source": [
    "# Example usage\n",
    "dataset_folder = '/content/dataset/SGM1000bbx'\n",
    "train_df, test_df = load_data_bbx3(dataset_folder)\n",
    "pretrained_model_path = '/content/weight/mammoSGM/Optimamv3/Optimamv3_448x448_based_convnextv2_tiny_9334_full.pth'\n",
    "\n",
    "image_path = os.path.join(dataset_folder, test_df.iloc[41]['link'])\n",
    "bbx_list = test_df.iloc[41]['bbx_list']\n",
    "gt = test_df.iloc[41]['cancer']\n",
    "\n",
    "model, input_tensor, img, target_layer, class_idx, pred_class, prob_class = pre_gradcam(model_tuple, image_path, target_layer=None, class_idx=None)\n",
    "gradcam_map = gradcam(model, input_tensor, target_layer, class_idx)\n",
    "post_gradcam(gradcam_map, img, bbx_list=bbx_list, option=5, blend_alpha=0.5, pred=pred_class, prob=prob_class, gt_label=gt)\n"
   ]
  },
  {
   "cell_type": "markdown",
   "id": "0e876348",
   "metadata": {},
   "source": [
    "## MIL"
   ]
  },
  {
   "cell_type": "code",
   "execution_count": null,
   "id": "e2d32fb7",
   "metadata": {},
   "outputs": [],
   "source": []
  }
 ],
 "metadata": {
  "kernelspec": {
   "display_name": "mammoSGM",
   "language": "python",
   "name": "python3"
  },
  "language_info": {
   "codemirror_mode": {
    "name": "ipython",
    "version": 3
   },
   "file_extension": ".py",
   "mimetype": "text/x-python",
   "name": "python",
   "nbconvert_exporter": "python",
   "pygments_lexer": "ipython3",
   "version": "3.11.13"
  }
 },
 "nbformat": 4,
 "nbformat_minor": 5
}
